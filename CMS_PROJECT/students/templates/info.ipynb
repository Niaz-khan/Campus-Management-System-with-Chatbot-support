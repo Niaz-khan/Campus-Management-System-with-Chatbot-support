{
 "cells": [
  {
   "cell_type": "markdown",
   "id": "f928b57b",
   "metadata": {},
   "source": [
    "You're switching gears to SIS (Student Information System) — smart move.\n",
    "The SIS is the beating heart of any UMS, so getting this right now is critical.\n",
    "\n",
    "Let’s go full-stack SIS:\n",
    "\n",
    "Create student profiles\n",
    "\n",
    "Display student data\n",
    "\n",
    "Allow admin/faculty to view/manage student records\n",
    "\n",
    "And since you asked for no REST framework, we’ll do this using pure Django views, forms, and templates — just like we did for login and admissions.\n",
    "\n"
   ]
  },
  {
   "cell_type": "markdown",
   "id": "7ef53320",
   "metadata": {},
   "source": [
    "| Feature            | Action                                |\n",
    "|--------------------|---------------------------------------|\n",
    "| Student profile    | Display current user’s academic data |\n",
    "| Admin view         | See list of all students             |\n",
    "| Add/edit students  | Admin adds students to the system    |\n",
    "| Link to user account | Each student linked to Django user  |\n"
   ]
  },
  {
   "cell_type": "markdown",
   "id": "2ddd0ba1",
   "metadata": {},
   "source": []
  }
 ],
 "metadata": {
  "language_info": {
   "name": "python"
  }
 },
 "nbformat": 4,
 "nbformat_minor": 5
}
